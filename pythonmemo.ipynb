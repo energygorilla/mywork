{
 "cells": [
  {
   "cell_type": "markdown",
   "metadata": {},
   "source": [
    "# Python Note"
   ]
  },
  {
   "cell_type": "markdown",
   "metadata": {},
   "source": [
    "## 数"
   ]
  },
  {
   "cell_type": "markdown",
   "metadata": {},
   "source": [
    "#### 少数点以下切り上げ、切り下げ"
   ]
  },
  {
   "cell_type": "code",
   "execution_count": 44,
   "metadata": {},
   "outputs": [
    {
     "name": "stdout",
     "output_type": "stream",
     "text": [
      "10\n",
      "-11\n",
      "11\n",
      "-10\n",
      "10\n",
      "-10\n"
     ]
    }
   ],
   "source": [
    "import math\n",
    "print(math.floor(10.123))\n",
    "# 10\n",
    "\n",
    "print(math.floor(-10.123))\n",
    "# -11\n",
    "\n",
    "print(math.ceil(10.123))\n",
    "# 11\n",
    "\n",
    "print(math.ceil(-10.123))\n",
    "# -10\n",
    "\n",
    "print(int(10.123))\n",
    "# 10\n",
    "\n",
    "print(int(-10.123))\n",
    "# -10"
   ]
  },
  {
   "cell_type": "markdown",
   "metadata": {},
   "source": [
    "## list"
   ]
  },
  {
   "cell_type": "markdown",
   "metadata": {},
   "source": [
    "#### 多次元配列の初期化"
   ]
  },
  {
   "cell_type": "code",
   "execution_count": 62,
   "metadata": {},
   "outputs": [
    {
     "name": "stdout",
     "output_type": "stream",
     "text": [
      "[[0, 0, 0, 0], [0, 0, 0, 0], [0, 0, 0, 0]]\n"
     ]
    }
   ],
   "source": [
    "l_2d_ok = [[0] * 4 for i in range(3)]\n",
    "print(l_2d_ok)\n",
    "# [[0, 0, 0, 0], [0, 0, 0, 0], [0, 0, 0, 0]]"
   ]
  },
  {
   "cell_type": "code",
   "execution_count": null,
   "metadata": {},
   "outputs": [],
   "source": []
  },
  {
   "cell_type": "code",
   "execution_count": 64,
   "metadata": {},
   "outputs": [
    {
     "name": "stdout",
     "output_type": "stream",
     "text": [
      "[[3, 10, 200], [1, 20, 300], [2, 30, 100]]\n"
     ]
    }
   ],
   "source": [
    "l_2d = [[2, 30, 100], [1, 20, 300], [3, 10, 200]]\n",
    "l_2d.sort(key=lambda x: x[1])\n",
    "\n",
    "print(l_2d)\n",
    "# [[3, 10, 200],\n",
    "#  [1, 20, 300],\n",
    "#  [2, 30, 100]]"
   ]
  },
  {
   "cell_type": "markdown",
   "metadata": {},
   "source": [
    "#### あるインデックス以外の要素の抽出"
   ]
  },
  {
   "cell_type": "code",
   "execution_count": 42,
   "metadata": {},
   "outputs": [
    {
     "name": "stdout",
     "output_type": "stream",
     "text": [
      "[2, 3, 4, 5]\n",
      "[1, 3, 4, 5]\n",
      "[1, 2, 4, 5]\n",
      "[1, 2, 3, 5]\n",
      "[1, 2, 3, 4]\n"
     ]
    }
   ],
   "source": [
    "listnum=[1,2,3,4,5]\n",
    "for i in range(len(listnum)):\n",
    "    lista= listnum[:i]+listnum[i+1:]\n",
    "    print(lista)"
   ]
  },
  {
   "cell_type": "markdown",
   "metadata": {},
   "source": [
    "#### range関数の使い方、最初指定"
   ]
  },
  {
   "cell_type": "code",
   "execution_count": 31,
   "metadata": {},
   "outputs": [
    {
     "name": "stdout",
     "output_type": "stream",
     "text": [
      "2\n",
      "3\n",
      "4\n",
      "5\n"
     ]
    }
   ],
   "source": [
    "a = range(2, 6)\n",
    "for i in a:\n",
    "    print(i)"
   ]
  },
  {
   "cell_type": "markdown",
   "metadata": {},
   "source": [
    "#### 内包表記"
   ]
  },
  {
   "cell_type": "code",
   "execution_count": 33,
   "metadata": {},
   "outputs": [
    {
     "name": "stdout",
     "output_type": "stream",
     "text": [
      "[0, 1, 4, 9, 16]\n",
      "[1, 3, 5, 7, 9]\n"
     ]
    }
   ],
   "source": [
    "##基本\n",
    "squares = [i**2 for i in range(5)]\n",
    "print(squares)\n",
    "# [0, 1, 4, 9, 16]\n",
    "\n",
    "##条件付き\n",
    "odds = [i for i in range(10) if i % 2 == 1]\n",
    "print(odds)\n",
    "# [1, 3, 5, 7, 9]\n",
    "\n",
    "##三項　[真のときの値 if 条件式 else 偽のときの値 for 任意の変数名 in イテラブルオブジェクト]\n",
    "\n",
    "odd_even = ['odd' if i % 2 == 1 else 'even' for i in range(10)]\n",
    "print(odd_even)\n",
    "# ['even', 'odd', 'even', 'odd', 'even', 'odd', 'even', 'odd', 'even', 'odd'"
   ]
  },
  {
   "cell_type": "markdown",
   "metadata": {},
   "source": [
    "#### 配列の一部　インデックスで範囲指定"
   ]
  },
  {
   "cell_type": "code",
   "execution_count": 55,
   "metadata": {},
   "outputs": [
    {
     "name": "stdout",
     "output_type": "stream",
     "text": [
      "0\n",
      "1\n",
      "2\n",
      "3\n",
      "4\n",
      "0\n",
      "1\n",
      "2\n",
      "3\n"
     ]
    }
   ],
   "source": [
    "a = range(5)[0:]\n",
    "b = range(5)[:-1]\n",
    "for i in a:\n",
    "    print(i)\n",
    "\n",
    "for i in b:\n",
    "    print(i)\n"
   ]
  },
  {
   "cell_type": "markdown",
   "metadata": {},
   "source": [
    "#### 配列の好きな位置に要素を挿入\n"
   ]
  },
  {
   "cell_type": "code",
   "execution_count": 8,
   "metadata": {
    "scrolled": true
   },
   "outputs": [
    {
     "name": "stdout",
     "output_type": "stream",
     "text": [
      "[0, 1, 2]\n",
      "[100, 0, 1, 2]\n",
      "[100, 0, 1, 200, 2]\n",
      "{1, 2, 3, 4, 5}\n",
      "[1, 2, 3, 4, 5]\n"
     ]
    }
   ],
   "source": [
    "l = list(range(3))\n",
    "print(l)\n",
    "# [0, 1, 2]\n",
    "\n",
    "l.insert(0, 100)\n",
    "print(l)\n",
    "# [100, 0, 1, 2]\n",
    "\n",
    "l.insert(-1, 200)\n",
    "print(l)\n",
    "# [100, 0, 1, 200, 2]\n"
   ]
  },
  {
   "cell_type": "markdown",
   "metadata": {},
   "source": [
    "#### 配列のユニークな要素のみを抽出"
   ]
  },
  {
   "cell_type": "code",
   "execution_count": 38,
   "metadata": {},
   "outputs": [
    {
     "name": "stdout",
     "output_type": "stream",
     "text": [
      "{1, 2, 3, 4, 5}\n",
      "[1, 2, 3, 4, 5]\n"
     ]
    }
   ],
   "source": [
    "#配列のユニークな要素のみを抽出\n",
    "\n",
    "l = [3, 3, 2,\n",
    "     1, 5, 1, 4, 2, 3]\n",
    "\n",
    "print(set(l))\n",
    "# {1, 2, 3, 4, 5}\n",
    "\n",
    "print(list(set(l)))\n",
    "# [1, 2, 3, 4, 5]"
   ]
  },
  {
   "cell_type": "markdown",
   "metadata": {},
   "source": [
    "#### 配列内に特定の要素が何回出てくるか"
   ]
  },
  {
   "cell_type": "code",
   "execution_count": 39,
   "metadata": {},
   "outputs": [
    {
     "name": "stdout",
     "output_type": "stream",
     "text": [
      "4\n",
      "1\n",
      "2\n",
      "0\n"
     ]
    }
   ],
   "source": [
    "l = ['a', 'a', 'a', 'a', 'b', 'c', 'c']\n",
    "\n",
    "print(l.count('a'))\n",
    "# 4\n",
    "\n",
    "print(l.count('b'))\n",
    "# 1\n",
    "\n",
    "print(l.count('c'))\n",
    "# 2\n",
    "\n",
    "print(l.count('d'))\n",
    "# 0"
   ]
  },
  {
   "cell_type": "markdown",
   "metadata": {},
   "source": [
    "## lambda関数"
   ]
  },
  {
   "cell_type": "markdown",
   "metadata": {},
   "source": [
    "#### 基本"
   ]
  },
  {
   "cell_type": "code",
   "execution_count": 50,
   "metadata": {},
   "outputs": [
    {
     "name": "stdout",
     "output_type": "stream",
     "text": [
      "False\n",
      "True\n",
      "2\n",
      "False\n",
      "True\n"
     ]
    }
   ],
   "source": [
    "# 奇数かを判定するラムダ式（無名関数）\n",
    "is_odd = lambda arg: arg % 2 != 0\n",
    " \n",
    "print(is_odd(4))  # False\n",
    "print(is_odd(7))  # True\n",
    "\n",
    "intlam = lambda i: int(i)\n",
    "print(intlam(2.11))\n",
    "\n",
    "\n",
    "is_odd_use_if = lambda arg: True if arg % 2 != 0 else False\n",
    " \n",
    "print(is_odd_use_if(4))  # False\n",
    "print(is_odd_use_if(7))  # True"
   ]
  },
  {
   "cell_type": "markdown",
   "metadata": {},
   "source": [
    "## filter関数"
   ]
  },
  {
   "cell_type": "markdown",
   "metadata": {},
   "source": [
    "#### 基本"
   ]
  },
  {
   "cell_type": "code",
   "execution_count": 53,
   "metadata": {},
   "outputs": [
    {
     "name": "stdout",
     "output_type": "stream",
     "text": [
      "[2, 4]\n",
      "(2, 4)\n",
      "['banana', 'orange']\n"
     ]
    }
   ],
   "source": [
    "list_1 = [1,2,3,4]\n",
    "# Python3でリストとして取得するしたい場合\n",
    "list_2 = list(filter(lambda x: x % 2 == 0, list_1))\n",
    "print(list_2)  \n",
    " \n",
    "# tuple()関数を使うとタプルとして取得も可能\n",
    "list_3 = tuple(filter(lambda x: x % 2 == 0, list_1))\n",
    "print(list_3)  \n",
    " \n",
    "# 文字列でフィルターするサンプル\n",
    "list_s_1 = ['apple', 'grape', 'banana', 'orange']\n",
    "list_s_2 = list(filter(lambda x: 'n' in x, list_s_1))  # 'n' を含む要素を抽出\n",
    "print(list_s_2)  # ['banana', 'orange']"
   ]
  },
  {
   "cell_type": "markdown",
   "metadata": {},
   "source": [
    "## map関数"
   ]
  },
  {
   "cell_type": "markdown",
   "metadata": {},
   "source": [
    "#### 基本"
   ]
  },
  {
   "cell_type": "code",
   "execution_count": 47,
   "metadata": {},
   "outputs": [
    {
     "name": "stdout",
     "output_type": "stream",
     "text": [
      "[2, 32, 2]\n"
     ]
    }
   ],
   "source": [
    "a = list(map(int, [\"2\", \"32\", 2.1]))\n",
    "print(a)"
   ]
  },
  {
   "cell_type": "markdown",
   "metadata": {},
   "source": [
    "## 値渡し　複製"
   ]
  },
  {
   "cell_type": "code",
   "execution_count": 40,
   "metadata": {},
   "outputs": [
    {
     "name": "stdout",
     "output_type": "stream",
     "text": [
      "['A', 'B', 'C']\n",
      "['1', 'B', 'C']\n"
     ]
    }
   ],
   "source": [
    "import copy\n",
    "list1 = ['A', 'B', 'C']\n",
    "list2 = copy.copy(list1)\n",
    "list2[0] = '1'\n",
    "print(list1)\n",
    "# ['A', 'B', 'C']\n",
    "print(list2)\n",
    "# ['1', 'B', 'C']"
   ]
  },
  {
   "cell_type": "markdown",
   "metadata": {},
   "source": [
    "## キュー"
   ]
  },
  {
   "cell_type": "markdown",
   "metadata": {},
   "source": [
    "#### 基本"
   ]
  },
  {
   "cell_type": "code",
   "execution_count": 35,
   "metadata": {},
   "outputs": [
    {
     "name": "stdout",
     "output_type": "stream",
     "text": [
      "0\n",
      "1\n",
      "2\n",
      "3\n",
      "4\n"
     ]
    }
   ],
   "source": [
    "# 必要なライブラリのインポート\n",
    "import queue\n",
    "\n",
    "# FIFOキューの作成\n",
    "q = queue.Queue()\n",
    "\n",
    "# キューにデータを挿入する。挿入するデータは「0, 1, 2, 3, 4」\n",
    "for i in range(5):\n",
    "    q.put(i)\n",
    "\n",
    "# キューからデータがなくなるまで取り出しを行う\n",
    "while not q.empty():\n",
    "    print(q.get())"
   ]
  },
  {
   "cell_type": "markdown",
   "metadata": {},
   "source": [
    "## 文字列"
   ]
  },
  {
   "cell_type": "code",
   "execution_count": 5,
   "metadata": {},
   "outputs": [
    {
     "name": "stdout",
     "output_type": "stream",
     "text": [
      "BCABC\n",
      "BCABCA\n",
      "ABCABC\n",
      "BC\n",
      "CDE\n",
      "ABC\n",
      "ABCDE\n",
      "ABC\n"
     ]
    }
   ],
   "source": [
    "\n",
    "word = \"ABCABCA\"\n",
    "# stripで両端の削除\n",
    "print(word.strip(\"A\")) ## => BCABC\n",
    "\n",
    "# lstripで左端の削除\n",
    "print(word.lstrip(\"A\")) ## => BCABCA\n",
    "\n",
    "# rstripで右端の削除\n",
    "print(word.rstrip(\"A\")) ## => ABCABC\n",
    "\n",
    "word = \"ABCDE\"\n",
    "print(word[1:3]) ## => BC\n",
    "print(word[2:]) ## => CDE\n",
    "print(word[:3]) ## => ABC\n",
    "print(word[:]) ## => ABCDE\n",
    "print(word[:-2])"
   ]
  },
  {
   "cell_type": "markdown",
   "metadata": {},
   "source": [
    "#### 文字列反転"
   ]
  },
  {
   "cell_type": "code",
   "execution_count": 37,
   "metadata": {},
   "outputs": [
    {
     "name": "stdout",
     "output_type": "stream",
     "text": [
      "54321\n"
     ]
    }
   ],
   "source": [
    "# 反転させたい文字列\n",
    "str = '12345'\n",
    "\n",
    "# 文字列[::-1]とすれば反転できる\n",
    "rslt = str[::-1]\n",
    "print(rslt)\n",
    "# => '54321'"
   ]
  },
  {
   "cell_type": "markdown",
   "metadata": {},
   "source": [
    "#### スライス　位置を指定して文字の挿入"
   ]
  },
  {
   "cell_type": "code",
   "execution_count": 54,
   "metadata": {},
   "outputs": [
    {
     "name": "stdout",
     "output_type": "stream",
     "text": [
      "abcdXXXhij\n"
     ]
    }
   ],
   "source": [
    "s = 'abcdefghij'\n",
    "\n",
    "print(s[:4] + 'XXX' + s[7:])\n",
    "# abcdXXXhij"
   ]
  },
  {
   "cell_type": "markdown",
   "metadata": {},
   "source": [
    "#### 文字列リストに"
   ]
  },
  {
   "cell_type": "code",
   "execution_count": 56,
   "metadata": {},
   "outputs": [
    {
     "name": "stdout",
     "output_type": "stream",
     "text": [
      "['a', 's', 'e', 'r', 't', 'h', 'u', 'i', 'd', 'f', 'h', 'b']\n"
     ]
    }
   ],
   "source": [
    "s = \"aserthuidfhb\"\n",
    "lis= list(s)\n",
    "print(lis)"
   ]
  },
  {
   "cell_type": "markdown",
   "metadata": {},
   "source": [
    "## 例外処理"
   ]
  },
  {
   "cell_type": "code",
   "execution_count": 7,
   "metadata": {},
   "outputs": [
    {
     "name": "stdout",
     "output_type": "stream",
     "text": [
      "division by zero\n",
      "<class 'ZeroDivisionError'>\n",
      "Error\n"
     ]
    }
   ],
   "source": [
    "try:\n",
    "    print(1 / 0)\n",
    "except ZeroDivisionError as e:\n",
    "    print(e)\n",
    "    print(type(e))\n",
    "# division by zero\n",
    "# <class 'ZeroDivisionError'>\n",
    "try:\n",
    "    print(1 / 0)\n",
    "except ZeroDivisionError:\n",
    "    print(\"Error\")"
   ]
  },
  {
   "cell_type": "markdown",
   "metadata": {},
   "source": [
    "## 辞書"
   ]
  },
  {
   "cell_type": "markdown",
   "metadata": {},
   "source": [
    "#### 基本"
   ]
  },
  {
   "cell_type": "code",
   "execution_count": 12,
   "metadata": {},
   "outputs": [
    {
     "name": "stdout",
     "output_type": "stream",
     "text": [
      "5\n"
     ]
    }
   ],
   "source": [
    "mydict = {\"apple\":1, \"orange\":2, \"banana\":3, 4:5}\n",
    "val = mydict[4]\n",
    "print(val)"
   ]
  },
  {
   "cell_type": "markdown",
   "metadata": {},
   "source": [
    "#### 要素の追加"
   ]
  },
  {
   "cell_type": "code",
   "execution_count": 16,
   "metadata": {},
   "outputs": [
    {
     "name": "stdout",
     "output_type": "stream",
     "text": [
      "{'apple': 1, 'orange': 2, 'banana': 3, 'peach': 4}\n"
     ]
    }
   ],
   "source": [
    "mydict = {\"apple\":1, \"orange\":2, \"banana\":3}\n",
    "mydict[\"peach\"] = 4\n",
    "print(mydict)"
   ]
  },
  {
   "cell_type": "markdown",
   "metadata": {},
   "source": [
    "#### 検索"
   ]
  },
  {
   "cell_type": "code",
   "execution_count": 15,
   "metadata": {},
   "outputs": [
    {
     "name": "stdout",
     "output_type": "stream",
     "text": [
      "True\n"
     ]
    }
   ],
   "source": [
    "mydict = {\"apple\":1, \"orange\":2, \"banana\":3}\n",
    "print(\"orange\" in mydict.keys())"
   ]
  },
  {
   "cell_type": "code",
   "execution_count": null,
   "metadata": {},
   "outputs": [],
   "source": []
  },
  {
   "cell_type": "code",
   "execution_count": 61,
   "metadata": {},
   "outputs": [
    {
     "name": "stdout",
     "output_type": "stream",
     "text": [
      "e\n",
      "100\n",
      "a\n",
      "('a', 100)\n",
      "[('a', 100), ('d', 100)]\n"
     ]
    }
   ],
   "source": [
    "d = {'a': 100, 'b': 20, 'c': 50, 'd': 100, 'e': 80}\n",
    "max_d = max(d)\n",
    "print(max_d)\n",
    "# e\n",
    "\n",
    "max_v = max(d.values())\n",
    "print(max_v)\n",
    "# 100\n",
    "\n",
    "max_k = max(d, key=d.get)\n",
    "print(max_k)\n",
    "# a\n",
    "\n",
    "max_kv = max(d.items(), key=lambda x: x[1])\n",
    "print(max_kv)\n",
    "# ('a', 100)\n",
    "\n",
    "max_kv_list = [kv for kv in d.items() if kv[1] == max(d.values())]\n",
    "print(max_kv_list)\n",
    "# [('a', 100), ('d', 100)]"
   ]
  },
  {
   "cell_type": "markdown",
   "metadata": {},
   "source": [
    "## Numpy"
   ]
  },
  {
   "cell_type": "markdown",
   "metadata": {},
   "source": [
    "#### 最大公約数"
   ]
  },
  {
   "cell_type": "code",
   "execution_count": 20,
   "metadata": {},
   "outputs": [
    {
     "name": "stdout",
     "output_type": "stream",
     "text": [
      "3\n",
      "[3 2 1 3]\n"
     ]
    }
   ],
   "source": [
    "import numpy as np\n",
    "\n",
    "a = np.array([0, 2, 3, 6])\n",
    "b = np.array([3, 4, 5, 15])\n",
    "\n",
    "print(np.gcd.reduce([6, 9, 12, 15]))\n",
    "# 3\n",
    "\n",
    "print(np.gcd(a, b))\n",
    "# [3 2 1 3]"
   ]
  },
  {
   "cell_type": "code",
   "execution_count": null,
   "metadata": {},
   "outputs": [],
   "source": []
  }
 ],
 "metadata": {
  "kernelspec": {
   "display_name": "Python 3",
   "language": "python",
   "name": "python3"
  },
  "language_info": {
   "codemirror_mode": {
    "name": "ipython",
    "version": 3
   },
   "file_extension": ".py",
   "mimetype": "text/x-python",
   "name": "python",
   "nbconvert_exporter": "python",
   "pygments_lexer": "ipython3",
   "version": "3.7.4"
  }
 },
 "nbformat": 4,
 "nbformat_minor": 2
}
